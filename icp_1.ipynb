{
  "nbformat": 4,
  "nbformat_minor": 0,
  "metadata": {
    "colab": {
      "provenance": []
    },
    "kernelspec": {
      "name": "python3",
      "display_name": "Python 3"
    },
    "language_info": {
      "name": "python"
    }
  },
  "cells": [
    {
      "cell_type": "code",
      "source": [
        "def reverse_string():\n",
        "    input_string = input(\"'(my input'): \")\n",
        "\n",
        "    if len(input_string) < 3:\n",
        "        print(\"least 3 characters.\")\n",
        "        return\n",
        "    char_list = list(input_string)\n",
        "\n",
        "    del char_list[1]\n",
        "    del char_list[2]\n",
        "\n",
        "    char_list.reverse()\n",
        "\n",
        "    result_string = ''.join(char_list)\n",
        "    print(f\"reversed string: {result_string}\")\n",
        "\n",
        "def arithmetic_operations():\n",
        "    try:\n",
        "        num1 = float(input(\"Enter the first number: \"))\n",
        "        num2 = float(input(\"Enter the second number: \"))\n",
        "\n",
        "        print(f\"Addition: {num1 + num2}\")\n",
        "        print(f\"Subtraction: {num1 - num2}\")\n",
        "        print(f\"Multiplication: {num1 * num2}\")\n",
        "        print(f\"Division: {num1 / num2}\")\n",
        "        print(f\"Modulus: {num1 % num2}\")\n",
        "\n",
        "    except ValueError:\n",
        "        print(\"Invalid input. Please enter numeric values.\")\n",
        "if __name__ == \"__main__\":\n",
        "    reverse_string()\n",
        "    arithmetic_operations()\n"
      ],
      "metadata": {
        "colab": {
          "base_uri": "https://localhost:8080/"
        },
        "id": "630RkbOF1q6V",
        "outputId": "62557a63-55d6-4d3b-ae14-cb869654917e"
      },
      "execution_count": 1,
      "outputs": [
        {
          "output_type": "stream",
          "name": "stdout",
          "text": [
            "'(my input'): python\n",
            "reversed string: notp\n",
            "Enter the first number: 2\n",
            "Enter the second number: 2\n",
            "Addition: 4.0\n",
            "Subtraction: 0.0\n",
            "Multiplication: 4.0\n",
            "Division: 1.0\n",
            "Modulus: 0.0\n"
          ]
        }
      ]
    },
    {
      "cell_type": "code",
      "source": [
        "def replace_python(sentence):\n",
        "    modified_sentence = sentence.replace('python', 'pythons')\n",
        "    return modified_sentence\n",
        "if __name__ == \"__main__\":\n",
        "    input_sentence = input(\"Enter a sentence: \")\n",
        "    output_sentence = replace_python(input_sentence)\n",
        "    print(f\"Modified sentence: {output_sentence}\")\n"
      ],
      "metadata": {
        "colab": {
          "base_uri": "https://localhost:8080/"
        },
        "id": "y2uBv3p130Ys",
        "outputId": "1f85dedd-b962-439a-bfd2-bd53c87ebc50"
      },
      "execution_count": null,
      "outputs": [
        {
          "output_type": "stream",
          "name": "stdout",
          "text": [
            "Enter a sentence: •I love playing with python\n",
            "Modified sentence: •I love playing with pythons\n"
          ]
        }
      ]
    },
    {
      "cell_type": "code",
      "source": [
        "def get_letter_grade(score):\n",
        "    if score >= 90:\n",
        "        return 'A'\n",
        "    elif score >= 80:\n",
        "        return 'B'\n",
        "    elif score >= 70:\n",
        "        return 'C'\n",
        "    elif score >= 60:\n",
        "        return 'D'\n",
        "    else:\n",
        "        return 'F'\n",
        "def main():\n",
        "    try:\n",
        "        score = float(input(\"Enter the class score: \"))\n",
        "        if score < 0 or score > 100:\n",
        "            print(\"Please enter a score between 0 and 100.\")\n",
        "            return\n",
        "        grade = get_letter_grade(score)\n",
        "        print(f\"The letter grade for the score {score} is: {grade}\")\n",
        "\n",
        "    except ValueError:\n",
        "        print(\"Invalid input. Please enter a numeric value.\")\n",
        "\n",
        "if __name__ == \"__main__\":\n",
        "    main()"
      ],
      "metadata": {
        "colab": {
          "base_uri": "https://localhost:8080/"
        },
        "id": "mxt2qffN4K2E",
        "outputId": "f421635f-4035-41d3-8fd7-a9c13f26118a"
      },
      "execution_count": null,
      "outputs": [
        {
          "output_type": "stream",
          "name": "stdout",
          "text": [
            "Enter the class score: 60\n",
            "The letter grade for the score 60.0 is: D\n"
          ]
        }
      ]
    }
  ]
}